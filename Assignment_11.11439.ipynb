{
 "cells": [
  {
   "cell_type": "code",
   "execution_count": null,
   "metadata": {},
   "outputs": [],
   "source": [
    "#1. What are the three stages to build the hypotheses or model in machine learning?\n",
    "\n",
    "a) Model building (Data Preparation, Training and Test set generation, Algorithm Training)\n",
    "\n",
    "b) Model testing (Prediction and Evaluation of Test Data)\n",
    "\n",
    "c) Applying the model  ( Deployment and Monitoring)"
   ]
  },
  {
   "cell_type": "code",
   "execution_count": null,
   "metadata": {},
   "outputs": [],
   "source": [
    "#2. What is the standard approach to supervised learning?\n",
    "The standard approach to supervised learning is to split the set of example into the training set and the test.\n",
    "\n"
   ]
  },
  {
   "cell_type": "code",
   "execution_count": null,
   "metadata": {},
   "outputs": [],
   "source": [
    "#3. What is Training set and Test set?\n",
    "Training set is a data set used to train the model. Specific features are picked up from the training set for training purpose.\n",
    "\n",
    "Test set is a data set used to measure how well the model performs at making predictions on the test data based on the training.\n"
   ]
  },
  {
   "cell_type": "code",
   "execution_count": null,
   "metadata": {},
   "outputs": [],
   "source": [
    "#4. What is the general principle of an ensemble method and what is bagging and boosting in ensemble method?\n",
    "Ensemble learning is used when you build component classifiers that are more accurate and independent from each other.\n",
    "\n",
    "The general principle of an ensemble method is to combine the predictions of several models built with a given learning \n",
    "algorithm in order to improve robustness over a single model. Bagging is a method in ensemble for improving unstable estimation or classification schemes.\n",
    "\n",
    "While boosting method are used sequentially to reduce the bias of the combined model. Boosting and Bagging both can reduce\n",
    "errors by reducing the variance term."
   ]
  },
  {
   "cell_type": "code",
   "execution_count": null,
   "metadata": {},
   "outputs": [],
   "source": [
    "#5. How can you avoid overfitting ?\n",
    "\n",
    "a) Over-fitting happens relatively as you have a small dataset, and you try to learn from it, by using a lot of data over fitting can be avoided. \n",
    "b) Cross Validation - If  you have a small database and you are forced to come with a model based on it, this method is useful.\n",
    "In this method the dataset splits into two section, testing and training datasets, the testing dataset will only test the model while, \n",
    "in training dataset, the data points will come up with the model.\n",
    "In this technique, a model is usually given a dataset of a known data on which training (training data set) is run and a dataset of unknown data against which the model is tested. The idea of cross validation is to define a \n",
    "dataset to “test” the model in the training phase"
   ]
  }
 ],
 "metadata": {
  "kernelspec": {
   "display_name": "Python 3",
   "language": "python",
   "name": "python3"
  },
  "language_info": {
   "codemirror_mode": {
    "name": "ipython",
    "version": 3
   },
   "file_extension": ".py",
   "mimetype": "text/x-python",
   "name": "python",
   "nbconvert_exporter": "python",
   "pygments_lexer": "ipython3",
   "version": "3.7.0"
  }
 },
 "nbformat": 4,
 "nbformat_minor": 2
}
